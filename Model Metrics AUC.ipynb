{
 "cells": [
  {
   "cell_type": "code",
   "execution_count": 1,
   "metadata": {},
   "outputs": [],
   "source": [
    "import pandas as pd\n",
    "import numpy as np\n",
    "from sklearn.datasets import make_classification\n",
    "from sklearn.model_selection import train_test_split\n",
    "from sklearn.metrics import precision_recall_curve, average_precision_score, roc_auc_score, auc, roc_curve\n",
    "from sklearn.linear_model import LogisticRegression"
   ]
  },
  {
   "cell_type": "markdown",
   "metadata": {},
   "source": [
    "### Case 1: Balanced Dataset"
   ]
  },
  {
   "cell_type": "code",
   "execution_count": 22,
   "metadata": {},
   "outputs": [],
   "source": [
    "X, y = make_classification(n_samples=10000, \n",
    "                           n_features=4, \n",
    "                           n_redundant=0, \n",
    "                           random_state=42, \n",
    "                           weights=[0.5])\n",
    "# To DataFrame\n",
    "columns = [f'feat_{i+1}' for i in range(X.shape[1])]\n",
    "X = pd.DataFrame(X, columns=columns)\n",
    "y = pd.DataFrame(y, columns=['label'])\n",
    "\n",
    "df = X.merge(y,left_index=True, right_index=True)"
   ]
  },
  {
   "cell_type": "code",
   "execution_count": 119,
   "metadata": {},
   "outputs": [
    {
     "data": {
      "text/html": [
       "<div>\n",
       "<style scoped>\n",
       "    .dataframe tbody tr th:only-of-type {\n",
       "        vertical-align: middle;\n",
       "    }\n",
       "\n",
       "    .dataframe tbody tr th {\n",
       "        vertical-align: top;\n",
       "    }\n",
       "\n",
       "    .dataframe thead th {\n",
       "        text-align: right;\n",
       "    }\n",
       "</style>\n",
       "<table border=\"1\" class=\"dataframe\">\n",
       "  <thead>\n",
       "    <tr style=\"text-align: right;\">\n",
       "      <th></th>\n",
       "      <th>feat_1</th>\n",
       "      <th>feat_2</th>\n",
       "      <th>feat_3</th>\n",
       "      <th>feat_4</th>\n",
       "      <th>label</th>\n",
       "    </tr>\n",
       "  </thead>\n",
       "  <tbody>\n",
       "    <tr>\n",
       "      <th>5883</th>\n",
       "      <td>0.727421</td>\n",
       "      <td>-1.513145</td>\n",
       "      <td>-0.778294</td>\n",
       "      <td>0.784069</td>\n",
       "      <td>0</td>\n",
       "    </tr>\n",
       "  </tbody>\n",
       "</table>\n",
       "</div>"
      ],
      "text/plain": [
       "        feat_1    feat_2    feat_3    feat_4  label\n",
       "5883  0.727421 -1.513145 -0.778294  0.784069      0"
      ]
     },
     "execution_count": 119,
     "metadata": {},
     "output_type": "execute_result"
    }
   ],
   "source": [
    "df.sample()"
   ]
  },
  {
   "cell_type": "code",
   "execution_count": 120,
   "metadata": {},
   "outputs": [],
   "source": [
    "train_df, test_df = train_test_split(df, test_size=0.1, shuffle=False)\n",
    "X_train, y_train = train_df[X.columns], train_df[y.columns[0]]\n",
    "X_test, y_test = test_df[X.columns], test_df[y.columns[0]]"
   ]
  },
  {
   "cell_type": "code",
   "execution_count": 121,
   "metadata": {},
   "outputs": [
    {
     "data": {
      "text/plain": [
       "LogisticRegression()"
      ]
     },
     "execution_count": 121,
     "metadata": {},
     "output_type": "execute_result"
    }
   ],
   "source": [
    "clf = LogisticRegression()\n",
    "clf.fit(X_train, y_train)"
   ]
  },
  {
   "cell_type": "code",
   "execution_count": 122,
   "metadata": {},
   "outputs": [],
   "source": [
    "def evaluation(clf, X, y):\n",
    "    y_predict_proba = clf.predict_proba(X)[:, 1]\n",
    "    \n",
    "    precision, recall, thresholds = precision_recall_curve(y, y_predict_proba)\n",
    "    fpr, tpr, thresholds = roc_curve(y, y_predict_proba)\n",
    "    \n",
    "    return{\n",
    "        'ROC AUC': auc(fpr, tpr), # Alternatively: roc_auc_score(y, y_predict_proba)\n",
    "        'PR AUC': auc(recall, precision) # Alternatively (with slight difference): average_precision_score(y, y_predict_proba)\n",
    "    }"
   ]
  },
  {
   "cell_type": "code",
   "execution_count": 123,
   "metadata": {},
   "outputs": [
    {
     "data": {
      "text/plain": [
       "{'ROC AUC': 0.9488691535252812, 'PR AUC': 0.9410024055042296}"
      ]
     },
     "execution_count": 123,
     "metadata": {},
     "output_type": "execute_result"
    }
   ],
   "source": [
    "evaluation(clf, X_train, y_train)"
   ]
  },
  {
   "cell_type": "code",
   "execution_count": 124,
   "metadata": {},
   "outputs": [
    {
     "data": {
      "text/plain": [
       "{'ROC AUC': 0.953169335834175, 'PR AUC': 0.9377326624603982}"
      ]
     },
     "execution_count": 124,
     "metadata": {},
     "output_type": "execute_result"
    }
   ],
   "source": [
    "evaluation(clf, X_test, y_test)"
   ]
  },
  {
   "cell_type": "markdown",
   "metadata": {},
   "source": [
    "### Case 2: Unbalanced Dataset"
   ]
  },
  {
   "cell_type": "code",
   "execution_count": 125,
   "metadata": {},
   "outputs": [],
   "source": [
    "X, y = make_classification(n_samples=10000, \n",
    "                           n_features=4, \n",
    "                           n_redundant=0, \n",
    "                           random_state=42, \n",
    "                           weights=[0.9])\n",
    "# To DataFrame\n",
    "columns = [f'feat_{i+1}' for i in range(X.shape[1])]\n",
    "X = pd.DataFrame(X, columns=columns)\n",
    "y = pd.DataFrame(y, columns=['label'])\n",
    "\n",
    "df = X.merge(y,left_index=True, right_index=True)"
   ]
  },
  {
   "cell_type": "code",
   "execution_count": 126,
   "metadata": {},
   "outputs": [],
   "source": [
    "train_df, test_df = train_test_split(df, test_size=0.1, shuffle=False)\n",
    "X_train, y_train = train_df[X.columns], train_df[y.columns[0]]\n",
    "X_test, y_test = test_df[X.columns], test_df[y.columns[0]]"
   ]
  },
  {
   "cell_type": "code",
   "execution_count": 127,
   "metadata": {},
   "outputs": [
    {
     "data": {
      "text/plain": [
       "LogisticRegression(class_weight='balanced')"
      ]
     },
     "execution_count": 127,
     "metadata": {},
     "output_type": "execute_result"
    }
   ],
   "source": [
    "clf = LogisticRegression(class_weight='balanced')\n",
    "clf.fit(X_train, y_train)"
   ]
  },
  {
   "cell_type": "code",
   "execution_count": 128,
   "metadata": {},
   "outputs": [
    {
     "data": {
      "text/plain": [
       "{'ROC AUC': 0.9325527987637363, 'PR AUC': 0.7045278360634368}"
      ]
     },
     "execution_count": 128,
     "metadata": {},
     "output_type": "execute_result"
    }
   ],
   "source": [
    "evaluation(clf, X_train, y_train)"
   ]
  },
  {
   "cell_type": "code",
   "execution_count": 129,
   "metadata": {},
   "outputs": [
    {
     "data": {
      "text/plain": [
       "{'ROC AUC': 0.9613000145741545, 'PR AUC': 0.7173812596081262}"
      ]
     },
     "execution_count": 129,
     "metadata": {},
     "output_type": "execute_result"
    }
   ],
   "source": [
    "evaluation(clf, X_test, y_test)"
   ]
  },
  {
   "cell_type": "markdown",
   "metadata": {},
   "source": [
    "PR VS ROC: PR is better for class imbalances, particularly if we want to treat positive classes with greater weight"
   ]
  },
  {
   "cell_type": "markdown",
   "metadata": {},
   "source": [
    "## Build it Yourself"
   ]
  },
  {
   "cell_type": "markdown",
   "metadata": {},
   "source": [
    "Notes: `auc` is typically found using the trapezoid rule. \n",
    "\n",
    "Proof here: https://github.com/scikit-learn/scikit-learn/blob/95119c13a/sklearn/metrics/_ranking.py#L100"
   ]
  },
  {
   "cell_type": "code",
   "execution_count": 121,
   "metadata": {},
   "outputs": [],
   "source": [
    "def roc_auc_manual(y, y_predict_proba):     \n",
    "    y_predict_proba_df = pd.DataFrame(y_predict_proba, columns=['y_predict_proba'])\n",
    "    frame = pd.concat([y.reset_index()['label'], y_predict_proba_df], axis=1)\n",
    "\n",
    "    FPR, TPR = [], []\n",
    "    thresholds = np.arange(0.0, 1.01, .01)\n",
    "\n",
    "    P = y[y==1].shape[0]\n",
    "    N = y[y==0].shape[0]\n",
    "    \n",
    "    for thresh in thresholds:\n",
    "        frame['y_pred'] = (frame['y_predict_proba'] > thresh).astype(int)\n",
    "        FP = ((frame['y_pred']==1) & (frame['label']==0)).sum()\n",
    "        TP = ((frame['y_pred']==1) & (frame['label']==1)).sum()\n",
    "        FN = ((frame['y_pred']==0) & (frame['label']==1)).sum()\n",
    "        TN = ((frame['y_pred']==0) & (frame['label']==0)).sum()\n",
    "\n",
    "        TPR.append(TP / P)\n",
    "        FPR.append(FP / N)\n",
    "        \n",
    "    direction = -1 if FPR[0] > FPR[1] else 1\n",
    "    area = direction * np.trapz(TPR, FPR)   \n",
    "    return area\n",
    "\n",
    "\n",
    "def pr_auc_manual(y, y_predict_proba): \n",
    "    y_predict_proba_df = pd.DataFrame(y_predict_proba, columns=['y_predict_proba'])\n",
    "    frame = pd.concat([y.reset_index()['label'], y_predict_proba_df], axis=1)\n",
    "\n",
    "    PRECISION, RECALL = [], []\n",
    "    thresholds = np.arange(0.0, 1.01, .01)\n",
    "\n",
    "    for thresh in thresholds:\n",
    "        frame['y_pred'] = (frame['y_predict_proba'] > thresh).astype(int)\n",
    "        FP = ((frame['y_pred']==1) & (frame['label']==0)).sum()\n",
    "        TP = ((frame['y_pred']==1) & (frame['label']==1)).sum()\n",
    "        FN = ((frame['y_pred']==0) & (frame['label']==1)).sum()\n",
    "        TN = ((frame['y_pred']==0) & (frame['label']==0)).sum()\n",
    "        \n",
    "        # Not exactly how it's computed, but close enough\n",
    "        prec = TP / (TP + FP) if TP + FP > 0 else 1\n",
    "        rec = TP / (TP + FN) if (TP + FN) > 0 else 1\n",
    "        \n",
    "        PRECISION.append(prec)\n",
    "        RECALL.append(rec)\n",
    "\n",
    "    area = -1 * np.trapz(PRECISION, RECALL)   \n",
    "    return area\n",
    "\n",
    "\n",
    "def evaluation(clf, X, y):\n",
    "    y_predict_proba = clf.predict_proba(X)[:, 1]\n",
    "    \n",
    "    precision, recall, _ = precision_recall_curve(y, y_predict_proba)\n",
    "    fpr, tpr, _ = roc_curve(y, y_predict_proba)\n",
    "    \n",
    "    return{\n",
    "        'ROC AUC': auc(fpr, tpr),\n",
    "        'PR AUC': auc(recall, precision),\n",
    "        'ROC AUC Manual': roc_auc_manual(y, y_predict_proba),\n",
    "        'PR AUC Manual': pr_auc_manual(y, y_predict_proba),\n",
    "    }"
   ]
  },
  {
   "cell_type": "markdown",
   "metadata": {},
   "source": [
    "### Balanced Dataset"
   ]
  },
  {
   "cell_type": "code",
   "execution_count": 122,
   "metadata": {},
   "outputs": [
    {
     "data": {
      "text/plain": [
       "LogisticRegression()"
      ]
     },
     "execution_count": 122,
     "metadata": {},
     "output_type": "execute_result"
    }
   ],
   "source": [
    "X, y = make_classification(n_samples=10000, \n",
    "                           n_features=4, \n",
    "                           n_redundant=0, \n",
    "                           random_state=42, \n",
    "                           weights=[0.5])\n",
    "# To DataFrame\n",
    "columns = [f'feat_{i+1}' for i in range(X.shape[1])]\n",
    "X = pd.DataFrame(X, columns=columns)\n",
    "y = pd.DataFrame(y, columns=['label'])\n",
    "\n",
    "df = X.merge(y,left_index=True, right_index=True)\n",
    "\n",
    "train_df, test_df = train_test_split(df, test_size=0.1, shuffle=False)\n",
    "X_train, y_train = train_df[X.columns], train_df[y.columns[0]]\n",
    "X_test, y_test = test_df[X.columns], test_df[y.columns[0]]\n",
    "\n",
    "clf = LogisticRegression()\n",
    "clf.fit(X_train, y_train)"
   ]
  },
  {
   "cell_type": "code",
   "execution_count": 123,
   "metadata": {},
   "outputs": [
    {
     "data": {
      "text/plain": [
       "{'ROC AUC': 0.9488691535252812,\n",
       " 'PR AUC': 0.9410024055042296,\n",
       " 'ROC AUC Manual': 0.9488153012239954,\n",
       " 'PR AUC Manual': 0.9441070778755031}"
      ]
     },
     "execution_count": 123,
     "metadata": {},
     "output_type": "execute_result"
    }
   ],
   "source": [
    "evaluation(clf, X_train, y_train)"
   ]
  },
  {
   "cell_type": "code",
   "execution_count": 124,
   "metadata": {},
   "outputs": [
    {
     "data": {
      "text/plain": [
       "{'ROC AUC': 0.953169335834175,\n",
       " 'PR AUC': 0.9377326624603982,\n",
       " 'ROC AUC Manual': 0.9531573125571107,\n",
       " 'PR AUC Manual': 0.9413042289698784}"
      ]
     },
     "execution_count": 124,
     "metadata": {},
     "output_type": "execute_result"
    }
   ],
   "source": [
    "evaluation(clf, X_test, y_test)"
   ]
  },
  {
   "cell_type": "markdown",
   "metadata": {},
   "source": [
    "### Unbalanced Dataset"
   ]
  },
  {
   "cell_type": "code",
   "execution_count": 125,
   "metadata": {},
   "outputs": [
    {
     "data": {
      "text/plain": [
       "LogisticRegression(class_weight='balanced')"
      ]
     },
     "execution_count": 125,
     "metadata": {},
     "output_type": "execute_result"
    }
   ],
   "source": [
    "X, y = make_classification(n_samples=10000, \n",
    "                           n_features=4, \n",
    "                           n_redundant=0, \n",
    "                           random_state=42, \n",
    "                           weights=[0.9])\n",
    "# To DataFrame\n",
    "columns = [f'feat_{i+1}' for i in range(X.shape[1])]\n",
    "X = pd.DataFrame(X, columns=columns)\n",
    "y = pd.DataFrame(y, columns=['label'])\n",
    "\n",
    "df = X.merge(y,left_index=True, right_index=True)\n",
    "\n",
    "train_df, test_df = train_test_split(df, test_size=0.1, shuffle=False)\n",
    "X_train, y_train = train_df[X.columns], train_df[y.columns[0]]\n",
    "X_test, y_test = test_df[X.columns], test_df[y.columns[0]]\n",
    "\n",
    "clf = LogisticRegression(class_weight='balanced')\n",
    "clf.fit(X_train, y_train)"
   ]
  },
  {
   "cell_type": "code",
   "execution_count": 126,
   "metadata": {},
   "outputs": [
    {
     "data": {
      "text/plain": [
       "{'ROC AUC': 0.9325527987637363,\n",
       " 'PR AUC': 0.7045278360634368,\n",
       " 'ROC AUC Manual': 0.9324968892026183,\n",
       " 'PR AUC Manual': 0.7107998620573341}"
      ]
     },
     "execution_count": 126,
     "metadata": {},
     "output_type": "execute_result"
    }
   ],
   "source": [
    "evaluation(clf, X_train, y_train)"
   ]
  },
  {
   "cell_type": "code",
   "execution_count": 127,
   "metadata": {},
   "outputs": [
    {
     "data": {
      "text/plain": [
       "{'ROC AUC': 0.9613000145741545,\n",
       " 'PR AUC': 0.7173812596081262,\n",
       " 'ROC AUC Manual': 0.9616923956546599,\n",
       " 'PR AUC Manual': 0.7301772949225389}"
      ]
     },
     "execution_count": 127,
     "metadata": {},
     "output_type": "execute_result"
    }
   ],
   "source": [
    "evaluation(clf, X_test, y_test)"
   ]
  },
  {
   "cell_type": "markdown",
   "metadata": {},
   "source": [
    "`precision_recall_curve` is actually determined from the true positives and false positives like this https://github.com/scikit-learn/scikit-learn/blob/95119c13a/sklearn/metrics/_ranking.py#L733"
   ]
  },
  {
   "cell_type": "markdown",
   "metadata": {},
   "source": [
    "Better to use an AUC vs Specific Precision & Recall scores becuase: AUC is representative of how well the model does at various thresholds. So it isn't bogged down by the arbitrariness"
   ]
  }
 ],
 "metadata": {
  "kernelspec": {
   "display_name": "Python 3",
   "language": "python",
   "name": "python3"
  },
  "language_info": {
   "codemirror_mode": {
    "name": "ipython",
    "version": 3
   },
   "file_extension": ".py",
   "mimetype": "text/x-python",
   "name": "python",
   "nbconvert_exporter": "python",
   "pygments_lexer": "ipython3",
   "version": "3.7.4"
  }
 },
 "nbformat": 4,
 "nbformat_minor": 4
}
